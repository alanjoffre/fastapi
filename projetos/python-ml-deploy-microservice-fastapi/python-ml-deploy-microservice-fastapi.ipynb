{
 "cells": [
  {
   "attachments": {},
   "cell_type": "markdown",
   "id": "6ee18161",
   "metadata": {},
   "source": [
    "## Como implantar modelos de aprendizado de máquina como um Micro Serviço usando FastAPI.\n",
    "\n",
    "- #### O FastAPI é a estrutura da Web mais popular para a criação de microsserviços com versões do python 3.6+. \n",
    "\n",
    "- #### Ao implantar modelos de aprendizado de máquina como baseados em microsserviços arquitetura, tornamos os componentes de código reutilizáveis, altamente mantidos, fáceis de testar e, claro, o tempo de resposta rápido. \n",
    "\n",
    "- #### FastAPI é construído sobre ASGI (Gateway de servidor assíncrono Interface) em vez do WSGI (Web Server Gateway Interface) do flask. \n",
    "\n",
    "- #### Esta é a razão mais rápido em comparação com APIs baseadas em Flask.\n",
    "\n",
    "- #### Possui um sistema de validação de dados que pode detectar qualquer tipo de dado inválido em tempo de execução.\n",
    "\n",
    "- #### Retorna o motivo das entradas incorretas para o usuário apenas no formato JSON, o que libera os desenvolvedores de gerenciar essa exceção explicitamente."
   ]
  },
  {
   "cell_type": "code",
   "execution_count": 17,
   "id": "3aae7142",
   "metadata": {},
   "outputs": [
    {
     "name": "stdout",
     "output_type": "stream",
     "text": [
      "0.9666666666666667\n"
     ]
    }
   ],
   "source": [
    "import pandas as pd\n",
    "from sklearn.model_selection import train_test_split\n",
    "from sklearn.linear_model import LogisticRegression\n",
    "import pickle\n",
    "\n",
    "# Carregar conjunto de dados.\n",
    "url = \"https://archive.ics.uci.edu/ml/machine-learning-databases/iris/iris.data\"\n",
    "names = ['sepal-lenght', 'sepal-width', 'petal-length', 'petal-width', 'class']\n",
    "dataset = pd.read_csv(filepath_or_buffer=url,header=None,sep=',', names=names)\n",
    "\n",
    "# Conjunto de dados de validação dividido.\n",
    "array = dataset.values\n",
    "X = array[:,0:4]\n",
    "y = array[:,4]\n",
    "X_train, X_test, y_train, y_test = train_test_split(X, y, test_size=0.20, random_state=1, shuffle=True)\n",
    "\n",
    "classifier = LogisticRegression()\n",
    "classifier.fit(X_train, y_train)\n",
    "\n",
    "# Salve o modelo no disco.\n",
    "pickle.dump(classifier, open('LRClassifier.pkl', 'wb'))\n",
    "\n",
    "#Load the model from disk\n",
    "loaded_model = pickle.load(open('LRClassifier.pkl', 'rb'))\n",
    "\n",
    "result = loaded_model.score(X_test, y_test)\n",
    "print(result)"
   ]
  },
  {
   "attachments": {},
   "cell_type": "markdown",
   "id": "98891245",
   "metadata": {},
   "source": [
    "- #### Abra o VSCODE.\n",
    "- #### Crie um diretório para o novo projeto.\n",
    "- #### Acesse o Terminal do VSCODE e crie um ambiente virtual com o seguinte comando: python -m venv venv\n",
    "- #### Ative o ambiente virtual com o seguinte comando: .\\venv\\Scripts\\Activate.ps1\n",
    "- #### Copie o arquivo LRClassifier.pkl, criado na pasta: C:\\Users\\NOME_DO_USUARIO"
   ]
  },
  {
   "attachments": {},
   "cell_type": "markdown",
   "id": "b51df4ca",
   "metadata": {},
   "source": [
    "# Instale as seguintes bibliotecas pelo terminal VSCODE:\n",
    "- #### pip install uvicorn\n",
    "- #### pip install pandas\n",
    "- #### pip install numpy\n",
    "- #### pip install sklearn\n",
    "- #### pip install pickle5\n",
    "- #### pip install FastAPI\n",
    "- #### pip install pydantic"
   ]
  },
  {
   "attachments": {},
   "cell_type": "markdown",
   "id": "95629311",
   "metadata": {},
   "source": [
    "#### Crie um arquivo: main.py no projeto do VSCODE e cole o código abaixo sem '#'"
   ]
  },
  {
   "cell_type": "code",
   "execution_count": null,
   "id": "0a5b1b23",
   "metadata": {},
   "outputs": [],
   "source": [
    "#from fastapi import FastAPI, File, Form, UploadFile\n",
    "#from pydantic import BaseModel\n",
    "#import pickle\n",
    "#import numpy as np\n",
    "#import pandas as pd\n",
    "#from io import StringIO\n",
    "\n",
    "#app = FastAPI()\n",
    "\n",
    "#class IrisSpecies(BaseModel):\n",
    "#    sepal_length: float\n",
    "#    sepal_width: float\n",
    "#    petal_length: float\n",
    "#    petal_width: float\n",
    "    \n",
    "#@app.post('/predict')\n",
    "#async def predict_species(iris: IrisSpecies):\n",
    "#    data = iris.dict()\n",
    "#    loaded_model = pickle.load(open('LRClassifier.pkl', 'rb'))\n",
    "#    data_in = [[data['sepal_length'], data['sepal_width'], data['petal_length'], data['petal_width']]]\n",
    "#    prediction = loaded_model.predict(data_in)\n",
    "#    probability = loaded_model.predict_proba(data_in).max()\n",
    "\n",
    "#    return {\n",
    "#        'prediction': prediction[0],\n",
    "#        'probability': probability\n",
    "#    }"
   ]
  },
  {
   "attachments": {},
   "cell_type": "markdown",
   "id": "8152b1d3",
   "metadata": {},
   "source": [
    "- #### Digite o seguinte Comando no Terminal do VSCODE para rodar o projeto: uvicorn main:app --reload\n",
    "- #### uvicorn NOME_DO_ARQUIVO:NOME_DADO_AO_AP no código\n",
    "- #### --reload | Todas alterações serão efetuadas em tempo real no projeto."
   ]
  },
  {
   "attachments": {},
   "cell_type": "markdown",
   "id": "5dbfddef",
   "metadata": {},
   "source": [
    "- #### Abra o browser: 127.0.0.0:8000/docs"
   ]
  },
  {
   "cell_type": "markdown",
   "id": "90fb9f22",
   "metadata": {},
   "source": [
    "- #### Clique no campo POST e ele se expandirá."
   ]
  },
  {
   "cell_type": "markdown",
   "id": "62c7554b",
   "metadata": {},
   "source": [
    "- #### Clique no campo TRY IT OUT."
   ]
  },
  {
   "cell_type": "markdown",
   "id": "6512f078",
   "metadata": {},
   "source": [
    "- #### Cole algumas dimensões fictícias e clique em executar."
   ]
  },
  {
   "cell_type": "code",
   "execution_count": 16,
   "id": "1c99a78b",
   "metadata": {},
   "outputs": [],
   "source": [
    "# {\n",
    "#  \"sepal_length\": 1.2,\n",
    "#  \"sepal_width\": 2.3,\n",
    "#  \"petal_length\": 1.4,\n",
    "#  \"petal_width\": 2.8\n",
    "# }"
   ]
  },
  {
   "cell_type": "markdown",
   "id": "cb9aec16",
   "metadata": {},
   "source": [
    "- ##### Clique no campo EXECUTE."
   ]
  },
  {
   "cell_type": "markdown",
   "id": "4fb5a26c",
   "metadata": {},
   "source": [
    "- #### Resultado: Iris-setosa com 99% de precisão."
   ]
  },
  {
   "attachments": {},
   "cell_type": "markdown",
   "id": "0bb99395",
   "metadata": {},
   "source": [
    "- #### Portanto, isso foi tudo sobre a criação da API usando o FastAPI.\n",
    "\n",
    "- #### FastAPI também fornece boa documentação que é criada automaticamente. \n",
    "\n",
    "- #### Basta digitar o seguinte endereço: 127.0.0.0:8000/redoc"
   ]
  }
 ],
 "metadata": {
  "kernelspec": {
   "display_name": "Python 3 (ipykernel)",
   "language": "python",
   "name": "python3"
  },
  "language_info": {
   "codemirror_mode": {
    "name": "ipython",
    "version": 3
   },
   "file_extension": ".py",
   "mimetype": "text/x-python",
   "name": "python",
   "nbconvert_exporter": "python",
   "pygments_lexer": "ipython3",
   "version": "3.9.13"
  }
 },
 "nbformat": 4,
 "nbformat_minor": 5
}
